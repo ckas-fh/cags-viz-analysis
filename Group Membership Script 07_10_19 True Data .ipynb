{
 "cells": [
  {
   "cell_type": "code",
   "execution_count": 3,
   "metadata": {
    "collapsed": true
   },
   "outputs": [],
   "source": [
    "# 1. load relevant packages\n",
    "\n",
    "from collections import defaultdict\n",
    "import pandas as pd\n",
    "import json\n",
    "import gzip\n",
    "import os\n",
    "import numpy\n",
    "from time import time"
   ]
  },
  {
   "cell_type": "code",
   "execution_count": 4,
   "metadata": {
    "collapsed": false
   },
   "outputs": [
    {
     "name": "stdout",
     "output_type": "stream",
     "text": [
      "There are 200 models in this folder\n"
     ]
    }
   ],
   "source": [
    "model_names_list = [\n",
    "    fp\n",
    "    for fp in os.listdir(\".\")\n",
    "    if fp.endswith(\".json.gz\")\n",
    "]\n",
    "model_names_list=model_names_list\n",
    "print(\"There are {:,} models in this folder\".format(len(model_names_list)))"
   ]
  },
  {
   "cell_type": "code",
   "execution_count": 5,
   "metadata": {
    "collapsed": false
   },
   "outputs": [],
   "source": [
    "# !ls"
   ]
  },
  {
   "cell_type": "code",
   "execution_count": 6,
   "metadata": {
    "collapsed": false
   },
   "outputs": [],
   "source": [
    "#  model_names_list = [\"groupA.50.0.1.CAGs.json.gz\", \"groupA.50.0.2.CAGs.json.gz\",\n",
    "#                     \"groupA.50.0.3.CAGs.json.gz\",\"groupA.50.0.4.CAGs.json.gz\",\n",
    "#                     \"groupA.60.0.1.CAGs.json.gz\",\"groupA.60.0.2.CAGs.json.gz\",\"groupJ.90.0.4.CAGs.json.gz\"]"
   ]
  },
  {
   "cell_type": "code",
   "execution_count": 7,
   "metadata": {
    "collapsed": false
   },
   "outputs": [],
   "source": [
    "# 2. read in file and convert into sets of CAGs\n",
    "\n",
    "def read_json_gz(fp):\n",
    "    return json.load(gzip.open(fp, \"rt\"))\n",
    "\n",
    "def make_list_genes(fp, min_group_size=2):\n",
    "    model = read_json_gz(fp)\n",
    "\n",
    "    list_of_sets = []\n",
    "    for list_of_genes in model.values():\n",
    "        if len(list_of_genes) >= min_group_size:\n",
    "            list_of_sets.append(set(list_of_genes))\n",
    "\n",
    "    return list_of_sets\n",
    "\n",
    "def make_indexed_list_of_genes(fp, min_group_size=2):\n",
    "    model = read_json_gz(fp)\n",
    "\n",
    "    # Store as a dictionary. Keys are gene names, values are sets of all genes in the CAG\n",
    "    indexed_list_of_sets = {}\n",
    "\n",
    "    for list_of_genes in model.values():\n",
    "        if len(list_of_genes) >= min_group_size:\n",
    "        \n",
    "            for gene_name in list_of_genes:\n",
    "             \n",
    "                indexed_list_of_sets[gene_name] = set(list_of_genes)\n",
    "\n",
    "    return indexed_list_of_sets\n",
    "\n",
    "\n"
   ]
  },
  {
   "cell_type": "code",
   "execution_count": 10,
   "metadata": {
    "collapsed": false
   },
   "outputs": [
    {
     "data": {
      "text/plain": [
       "0.947529077416978"
      ]
     },
     "execution_count": 10,
     "metadata": {},
     "output_type": "execute_result"
    }
   ],
   "source": [
    "# 4. function to compare set A to set B\n",
    "\n",
    "def one_to_one(set_A,set_B):\n",
    "    \n",
    "    if set_B is None:\n",
    "        return 0\n",
    "\n",
    "    ov = set(set_A) & set(set_B)\n",
    "    length=len(ov)\n",
    "#     print(\"This is new one_to_one\")\n",
    "    return length / len(set_A)\n",
    "\n",
    "# 5. function to compare set A to list of set B, returns max # of gene overlap\n",
    "\n",
    "def one_to_many(set_A, indexed_list_of_sets_B):\n",
    "    max_score=0\n",
    "    \n",
    "    for gene_name in set_A:\n",
    "        score=one_to_one(set_A,indexed_list_of_sets_B.get(gene_name))\n",
    "\n",
    "        if score>max_score:\n",
    "            max_score=score\n",
    "\n",
    "    return max_score * len(set_A)\n",
    "\n",
    "# 6. function to compare list of sets A to list of sets B\n",
    "\n",
    "def many_to_many(index_of_sets_A, index_of_sets_B):\n",
    "    \n",
    "    scores=[]\n",
    "    total_number_of_genes = []\n",
    "    \n",
    "    # Keep track of what genes have been already queried\n",
    "    already_queried_genes = set([])\n",
    "    \n",
    "    # Iterate over the list of genes in each CAG\n",
    "    for gene_list in index_of_sets_A.values():\n",
    "        if list(gene_list)[0] in already_queried_genes:\n",
    "            continue\n",
    "\n",
    "        scores.append(one_to_many(gene_list, index_of_sets_B))\n",
    "\n",
    "        total_number_of_genes.append(len(gene_list))\n",
    "\n",
    "        already_queried_genes |= gene_list\n",
    "\n",
    "    return sum(scores)/sum(total_number_of_genes)\n",
    "\n",
    "# 7. function to find number of genes in model 1\n",
    "def number_genes(model1):\n",
    "    total_genes=0\n",
    "    for cag in model1.values():\n",
    "        total_genes += len(cag)\n",
    "\n",
    "    return total_genes\n",
    "\n",
    "many_to_many(\n",
    "    make_indexed_list_of_genes(\"groupA.50.0.1.CAGs.json.gz\"),\n",
    "    make_indexed_list_of_genes(\"groupA.50.0.2.CAGs.json.gz\")\n",
    ")"
   ]
  },
  {
   "cell_type": "code",
   "execution_count": null,
   "metadata": {
    "collapsed": false
   },
   "outputs": [
    {
     "name": "stdout",
     "output_type": "stream",
     "text": [
      "Retriving results for groupB.70.0.2 and groupC.60.0.3 from the cache\n",
      "It took 0.0 seconds to compare groupB.70.0.2 to groupC.60.0.3\n"
     ]
    }
   ],
   "source": [
    "# 8. function to create dataframe\n",
    "\n",
    "def comparison_df(fp_list):\n",
    "    comparison_dataframe = []\n",
    "    \n",
    "    for fp_A in fp_list:\n",
    "        \n",
    "        modelA_name = fp_A.replace(\".CAGs.json.gz\", \"\")\n",
    "        \n",
    "        for fp_B in fp_list:\n",
    "            \n",
    "            start_time = time()\n",
    "\n",
    "            modelB_name = fp_B.replace(\".CAGs.json.gz\", \"\")\n",
    "\n",
    "            if modelA_name == modelB_name:\n",
    "                continue\n",
    "                \n",
    "            cache_fp = \"{}.{}.cache.json\".format(modelA_name, modelB_name)\n",
    "            \n",
    "            if os.path.exists(cache_fp):\n",
    "                print(\"Retriving results for {} and {} from the cache\".format(modelA_name, modelB_name))\n",
    "                res = json.load(open(cache_fp, \"rt\"))\n",
    "                \n",
    "            else:\n",
    "                modelA = make_indexed_list_of_genes(fp_A)\n",
    "                modelB = make_indexed_list_of_genes(fp_B)\n",
    "\n",
    "                res = {\n",
    "                    \"Model A\": modelA_name,\n",
    "                    \"Model B\": modelB_name,\n",
    "                    \"Score\": many_to_many(modelA,modelB),\n",
    "                    \"Number of CAGs in Model A\":(len(modelA)),\n",
    "                    \"Number of Genes in Model A\": number_genes(modelA)                    \n",
    "                }\n",
    "                print(\"Writing results for {} and {} to the cache\".format(modelA_name, modelB_name))\n",
    "\n",
    "                json.dump(res, open(cache_fp, \"wt\"))\n",
    "\n",
    "            comparison_dataframe.append(res)\n",
    "            print(\"It took {:,} seconds to compare {} to {}\".format(\n",
    "                round(time() - start_time, 2),\n",
    "                modelA_name,\n",
    "                modelB_name\n",
    "            ))\n",
    "        \n",
    "            \n",
    "    comparison_dataframe = pd.DataFrame(comparison_dataframe)\n",
    "    return comparison_dataframe\n",
    "\n",
    "df = comparison_df(model_names_list[:3])"
   ]
  },
  {
   "cell_type": "code",
   "execution_count": null,
   "metadata": {
    "collapsed": false
   },
   "outputs": [],
   "source": [
    "# 10. creating dataframe of models\n",
    "df = comparison_df(models)"
   ]
  },
  {
   "cell_type": "code",
   "execution_count": null,
   "metadata": {
    "collapsed": false
   },
   "outputs": [],
   "source": [
    "df"
   ]
  },
  {
   "cell_type": "code",
   "execution_count": null,
   "metadata": {
    "collapsed": true
   },
   "outputs": [],
   "source": []
  }
 ],
 "metadata": {
  "kernelspec": {
   "display_name": "Python 3",
   "language": "python",
   "name": "python3"
  },
  "language_info": {
   "codemirror_mode": {
    "name": "ipython",
    "version": 3
   },
   "file_extension": ".py",
   "mimetype": "text/x-python",
   "name": "python",
   "nbconvert_exporter": "python",
   "pygments_lexer": "ipython3",
   "version": "3.5.3"
  }
 },
 "nbformat": 4,
 "nbformat_minor": 1
}
