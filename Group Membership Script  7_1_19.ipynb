{
 "cells": [
  {
   "cell_type": "code",
   "execution_count": 57,
   "metadata": {
    "collapsed": true
   },
   "outputs": [],
   "source": [
    "# 1. load relevant packages\n",
    "\n",
    "from collections import defaultdict\n",
    "import pandas as pd\n",
    "import json\n",
    "import gzip\n",
    "import os\n",
    "import numpy\n",
    "\n",
    "#df=json.load(gzip.open(\"40_samples_sum_0.2_2019-01-21.cags.json.gz\", \"rt\"))\n",
    "# type(df)"
   ]
  },
  {
   "cell_type": "code",
   "execution_count": 36,
   "metadata": {
    "collapsed": false
   },
   "outputs": [],
   "source": [
    "# 2. read in file and convert into sets of CAGs\n",
    "\n",
    "l=[\"40_samples_sum_0.2_2019-01-21.cags.json.gz\",\"40_samples_sum_0.3_2019-01-21.cags.json.gz\",\"50_samples_sum_0.3_2019-01-09.cags.json.gz\"]\n",
    "\n",
    "def read_json_gz(fp):\n",
    "   return json.load(gzip.open(fp, \"rt\"))\n",
    "\n",
    "def make_list_genes(fp):\n",
    "   model = read_json_gz(fp)\n",
    "   #print(“This is new model”)\n",
    "   list_of_sets = []\n",
    "   for list_of_genes in model.values():\n",
    "       list_of_sets.append(set(list_of_genes))\n",
    "\n",
    "   return list_of_sets\n"
   ]
  },
  {
   "cell_type": "code",
   "execution_count": 37,
   "metadata": {
    "collapsed": false
   },
   "outputs": [
    {
     "data": {
      "text/plain": [
       "dict_keys(['40_samples_sum_0.2_2019-01-21.cags.json.gz', '40_samples_sum_0.3_2019-01-21.cags.json.gz', '50_samples_sum_0.3_2019-01-09.cags.json.gz'])"
      ]
     },
     "execution_count": 37,
     "metadata": {},
     "output_type": "execute_result"
    }
   ],
   "source": [
    "# 3. create dict of models \n",
    "models = {}\n",
    "for fp in l:\n",
    "   models[fp] = make_list_genes(fp)\n",
    "\n",
    "models.keys()"
   ]
  },
  {
   "cell_type": "code",
   "execution_count": 53,
   "metadata": {
    "collapsed": false
   },
   "outputs": [],
   "source": [
    "# aside: convert values of dict of models to tuples\n",
    "\n",
    "def convert\n",
    "\n",
    "set_r=str(models['40_samples_sum_0.2_2019-01-21.cags.json.gz'])\n",
    "set_f=str(models['40_samples_sum_0.3_2019-01-21.cags.json.gz'])\n",
    "\n",
    "set_r=set_r.replace('{','(')\n",
    "set_r=set_r.replace('}',')')\n",
    "\n",
    "set_f=set(set_f.replace('{','('))\n",
    "set_f=set(set_f.replace('}',')'))"
   ]
  },
  {
   "cell_type": "code",
   "execution_count": 63,
   "metadata": {
    "collapsed": false
   },
   "outputs": [
    {
     "name": "stdout",
     "output_type": "stream",
     "text": [
      "0.3333333333333333\n",
      "0.6666666666666666\n"
     ]
    }
   ],
   "source": [
    "function to compare set A to set B\n",
    "\n",
    "def one_to_one(set_A,set_B):   \n",
    "    ov = set(set_A) & set(set_B)\n",
    "    length=len(ov)\n",
    "    return length / len(set_A)\n",
    "\n",
    "\n",
    "# Result should be 1/3\n",
    "print(one_to_one(\n",
    "    {'a', 'b', 'c'},\n",
    "    {'c', 'e', 'f', 'g', 'h', 'i'}\n",
    "))\n",
    "\n",
    "# Result should be 2/3\n",
    "print(one_to_one(\n",
    "    {'a', 'b', 'c'},\n",
    "    {'b', 'c'\n",
    "     , 'f', 'g', 'h', 'i'}\n",
    "))"
   ]
  },
  {
   "cell_type": "code",
   "execution_count": 9,
   "metadata": {
    "collapsed": false
   },
   "outputs": [
    {
     "ename": "TypeError",
     "evalue": "unhashable type: 'set'",
     "output_type": "error",
     "traceback": [
      "\u001b[0;31m---------------------------------------------------------------------------\u001b[0m",
      "\u001b[0;31mTypeError\u001b[0m                                 Traceback (most recent call last)",
      "\u001b[0;32m<ipython-input-9-20da443d4fd1>\u001b[0m in \u001b[0;36m<module>\u001b[0;34m()\u001b[0m\n\u001b[1;32m     25\u001b[0m     \u001b[0;32mreturn\u001b[0m \u001b[0mlist\u001b[0m\u001b[0;34m(\u001b[0m\u001b[0mset\u001b[0m\u001b[0;34m(\u001b[0m\u001b[0mlst1\u001b[0m\u001b[0;34m)\u001b[0m\u001b[0;34m&\u001b[0m\u001b[0mset\u001b[0m\u001b[0;34m(\u001b[0m\u001b[0mlst2\u001b[0m\u001b[0;34m)\u001b[0m\u001b[0;34m)\u001b[0m\u001b[0;34m\u001b[0m\u001b[0m\n\u001b[1;32m     26\u001b[0m \u001b[0;34m\u001b[0m\u001b[0m\n\u001b[0;32m---> 27\u001b[0;31m \u001b[0mprint\u001b[0m\u001b[0;34m(\u001b[0m\u001b[0mintersection\u001b[0m\u001b[0;34m(\u001b[0m\u001b[0mlst1\u001b[0m\u001b[0;34m,\u001b[0m \u001b[0mlst2\u001b[0m\u001b[0;34m)\u001b[0m\u001b[0;34m)\u001b[0m\u001b[0;34m\u001b[0m\u001b[0m\n\u001b[0m",
      "\u001b[0;32m<ipython-input-9-20da443d4fd1>\u001b[0m in \u001b[0;36mintersection\u001b[0;34m(lst1, lst2)\u001b[0m\n\u001b[1;32m     23\u001b[0m \u001b[0;31m# of two lists using set() method\u001b[0m\u001b[0;34m\u001b[0m\u001b[0;34m\u001b[0m\u001b[0m\n\u001b[1;32m     24\u001b[0m \u001b[0;32mdef\u001b[0m \u001b[0mintersection\u001b[0m\u001b[0;34m(\u001b[0m\u001b[0mlst1\u001b[0m\u001b[0;34m,\u001b[0m \u001b[0mlst2\u001b[0m\u001b[0;34m)\u001b[0m\u001b[0;34m:\u001b[0m\u001b[0;34m\u001b[0m\u001b[0m\n\u001b[0;32m---> 25\u001b[0;31m     \u001b[0;32mreturn\u001b[0m \u001b[0mlist\u001b[0m\u001b[0;34m(\u001b[0m\u001b[0mset\u001b[0m\u001b[0;34m(\u001b[0m\u001b[0mlst1\u001b[0m\u001b[0;34m)\u001b[0m\u001b[0;34m&\u001b[0m\u001b[0mset\u001b[0m\u001b[0;34m(\u001b[0m\u001b[0mlst2\u001b[0m\u001b[0;34m)\u001b[0m\u001b[0;34m)\u001b[0m\u001b[0;34m\u001b[0m\u001b[0m\n\u001b[0m\u001b[1;32m     26\u001b[0m \u001b[0;34m\u001b[0m\u001b[0m\n\u001b[1;32m     27\u001b[0m \u001b[0mprint\u001b[0m\u001b[0;34m(\u001b[0m\u001b[0mintersection\u001b[0m\u001b[0;34m(\u001b[0m\u001b[0mlst1\u001b[0m\u001b[0;34m,\u001b[0m \u001b[0mlst2\u001b[0m\u001b[0;34m)\u001b[0m\u001b[0;34m)\u001b[0m\u001b[0;34m\u001b[0m\u001b[0m\n",
      "\u001b[0;31mTypeError\u001b[0m: unhashable type: 'set'"
     ]
    }
   ],
   "source": [
    "# aside: can't figure out how to create subset of data to compare quickly that I know will have overlap\n",
    "\n",
    "l=[\"40_samples_sum_0.2_2019-01-21.cags.json.gz\",\"40_samples_sum_0.3_2019-01-21.cags.json.gz\",\"50_samples_sum_0.3_2019-01-09.cags.json.gz\"]\n",
    "\n",
    "def read_json_gz(fp):\n",
    "   return json.load(gzip.open(fp, \"rt\"))\n",
    "\n",
    "def make_list_genes(fp):\n",
    "   model = read_json_gz(fp)\n",
    "   #print(“This is new model”)\n",
    "   list_of_sets = []\n",
    "   for list_of_genes in model.values():\n",
    "       list_of_sets.append(set(list_of_genes))\n",
    "\n",
    "   return list_of_sets\n",
    "\n",
    "r=(make_list_genes(\"40_samples_sum_0.2_2019-01-21.cags.json.gz\"))\n",
    "list1=tuple(r)\n",
    "f=make_list_genes(\"40_samples_sum_0.3_2019-01-21.cags.json.gz\")\n",
    "list2=tuple(f)  \n",
    "\n",
    "# Python program to illustrate the intersection \n",
    "# of two lists using set() method \n",
    "def intersection(lst1, lst2): \n",
    "    return list(set(lst1)&set(lst2)) \n",
    "\n",
    "print(intersection(lst1, lst2)) "
   ]
  },
  {
   "cell_type": "code",
   "execution_count": 20,
   "metadata": {
    "collapsed": false
   },
   "outputs": [],
   "source": [
    "#aside: code to make txt files of subsets of data manually (made txt files, did command search to find a common gene)\n",
    "\n",
    "def read_json_gz(fp):\n",
    "   return json.load(gzip.open(fp, \"rt\"))\n",
    "\n",
    "def make_list_genes(fp):\n",
    "   model = read_json_gz(fp)\n",
    "   #print(“This is new model”)\n",
    "   list_of_sets = []\n",
    "   for list_of_genes in model.values():\n",
    "       list_of_sets.append(set(list_of_genes))\n",
    "\n",
    "   return list_of_sets\n",
    "\n",
    "sample_model_1=(make_list_genes(\"40_samples_sum_0.2_2019-01-21.cags.json.gz\"))\n",
    "\n",
    "# print(sample_model_1)\n",
    "sample_model_2=(make_list_genes(\"40_samples_sum_0.3_2019-01-21.cags.json.gz\"))\n",
    "\n",
    "# print(sample_model_2)\n",
    "f = open('sample_model_1.txt','w')\n",
    "f.write(str(sample_model_1))\n",
    "f.close()\n",
    "r = open('sample_model_2.txt','w')\n",
    "r.write(str(sample_model_2))\n",
    "r.close()"
   ]
  },
  {
   "cell_type": "code",
   "execution_count": 28,
   "metadata": {
    "collapsed": false
   },
   "outputs": [
    {
     "data": {
      "text/plain": [
       "(81,\n",
       " {'UniRef90_A0A023Z0H6',\n",
       "  'UniRef90_A0A093DJG9',\n",
       "  'UniRef90_A0A0I2DBL1',\n",
       "  'UniRef90_A0A192CAX0',\n",
       "  'UniRef90_A0A192CH26',\n",
       "  'UniRef90_A0A1U9XD09',\n",
       "  'UniRef90_A0A2S6E2F7',\n",
       "  'UniRef90_A0A2S6E7G8',\n",
       "  'UniRef90_A0A2T4L7C1',\n",
       "  'UniRef90_A0A2T4QKJ9',\n",
       "  'UniRef90_A0A2W6NUZ2',\n",
       "  'UniRef90_A0A2W6PSQ6',\n",
       "  'UniRef90_A0A2X1KCS7',\n",
       "  'UniRef90_A0A2X1L772',\n",
       "  'UniRef90_A0A2X1LZJ9',\n",
       "  'UniRef90_A0A2X1M3Q2',\n",
       "  'UniRef90_A0A2X1MXG8',\n",
       "  'UniRef90_A0A2X1PUH1',\n",
       "  'UniRef90_A0A2X1PX82',\n",
       "  'UniRef90_A0A2X2J561',\n",
       "  'UniRef90_A0A2X3A3I0',\n",
       "  'UniRef90_A0A2X3C6R7',\n",
       "  'UniRef90_A0A2X7LPY1',\n",
       "  'UniRef90_A0A2Y5A8D5',\n",
       "  'UniRef90_A0A346CGF3',\n",
       "  'UniRef90_A0A376MM44',\n",
       "  'UniRef90_A0A376NDI3',\n",
       "  'UniRef90_A0A376NYJ2',\n",
       "  'UniRef90_A0A376RKN1',\n",
       "  'UniRef90_A0A376RR84',\n",
       "  'UniRef90_A0A376TDQ7',\n",
       "  'UniRef90_A0A376U1I5',\n",
       "  'UniRef90_A0A376VE88',\n",
       "  'UniRef90_A0A376W3D1',\n",
       "  'UniRef90_A0A376ZZ37',\n",
       "  'UniRef90_A0A377B4Q6',\n",
       "  'UniRef90_A0A377BL33',\n",
       "  'UniRef90_A0A377CW89',\n",
       "  'UniRef90_A0A377D3L4',\n",
       "  'UniRef90_A0A377DAT1',\n",
       "  'UniRef90_A0A377DG63',\n",
       "  'UniRef90_A0A377DR28',\n",
       "  'UniRef90_A0A377K3V1',\n",
       "  'UniRef90_A0A377LLC2',\n",
       "  'UniRef90_A0A377W2Q3',\n",
       "  'UniRef90_A0A379SXM3',\n",
       "  'UniRef90_A0A398X0U5',\n",
       "  'UniRef90_B3WZQ1',\n",
       "  'UniRef90_D7XL50',\n",
       "  'UniRef90_D8EA67',\n",
       "  'UniRef90_E2XAA9',\n",
       "  'UniRef90_G5Q6D7',\n",
       "  'UniRef90_I6CDD0',\n",
       "  'UniRef90_I6D4F0',\n",
       "  'UniRef90_P0AAG4',\n",
       "  'UniRef90_P0AD57',\n",
       "  'UniRef90_P0AEB6',\n",
       "  'UniRef90_P0AGE7',\n",
       "  'UniRef90_P27298',\n",
       "  'UniRef90_P46144',\n",
       "  'UniRef90_P75620',\n",
       "  'UniRef90_Q31ZQ7',\n",
       "  'UniRef90_Q46863',\n",
       "  'UniRef90_T9DBK7',\n",
       "  'UniRef90_U9XMN8',\n",
       "  'UniRef90_UPI00018F446F',\n",
       "  'UniRef90_UPI000390B86D',\n",
       "  'UniRef90_UPI00053150EC',\n",
       "  'UniRef90_UPI0009AF861C',\n",
       "  'UniRef90_UPI000A2F7E9C',\n",
       "  'UniRef90_UPI000B429355',\n",
       "  'UniRef90_UPI000B42B6F5',\n",
       "  'UniRef90_UPI000B7F77EC',\n",
       "  'UniRef90_UPI000C804E95',\n",
       "  'UniRef90_UPI000DA11850',\n",
       "  'UniRef90_V7IVU2',\n",
       "  'UniRef90_W1BB32',\n",
       "  'UniRef90_W1BFK0',\n",
       "  'UniRef90_W1W7Q9',\n",
       "  'UniRef90_W1Y7M3',\n",
       "  'UniRef90_W8TWR7'})"
      ]
     },
     "execution_count": 28,
     "metadata": {},
     "output_type": "execute_result"
    }
   ],
   "source": [
    "# aside: making subsets of data, finding number to check against\n",
    "\n",
    "sample_tuple_A=('UniRef90_A0A0I2DBL1', 'UniRef90_P37673', 'UniRef90_A0A2X2J561', 'UniRef90_A0A2W6PSQ6', 'UniRef90_B7LR02', 'UniRef90_A0A2X1PUH1', 'UniRef90_A0A377AQH0', 'UniRef90_A0A378GAR7', 'UniRef90_A0A377E889', 'UniRef90_A0A398X0U5', 'UniRef90_A0A2T4QKU8', 'UniRef90_A0A377N4M5', 'UniRef90_A0A376MJR8', 'UniRef90_E2XAA9', 'UniRef90_I6CDD0', 'UniRef90_A0A377DR28', 'UniRef90_A0A2X4ZB90', 'UniRef90_A0A093DJG9', 'UniRef90_G5Q6D7', 'UniRef90_A0A376P1T9', 'UniRef90_A0A2K4P456', 'UniRef90_A0A376RKN1', 'UniRef90_A0A377CW89', 'UniRef90_A0A377BL33', 'UniRef90_A0A2X3A3I0', 'UniRef90_A0A376K2X2', 'UniRef90_A0A377B4Q6', 'UniRef90_A0A376VE88', 'UniRef90_P37646', 'UniRef90_UPI0009AF861C', 'UniRef90_Q46863', 'UniRef90_Q32B68', 'UniRef90_A0A192CAX0', 'UniRef90_A0A237JQ58', 'UniRef90_A0A376NYJ2', 'UniRef90_A0A023Z0H6', 'UniRef90_A0A2X1KCS7', 'UniRef90_B3WZQ1', 'UniRef90_D8EA67', 'UniRef90_P46144', 'UniRef90_UPI000B429355', 'UniRef90_W1Y7M3', 'UniRef90_I6D4F0', 'UniRef90_A0A2X1MXG8', 'UniRef90_A0A376U1I5', 'UniRef90_A0A384L6C3', 'UniRef90_A0A2W6NUZ2', 'UniRef90_UPI00018F446F', 'UniRef90_P45756', 'UniRef90_G5QQ04', 'UniRef90_A0A2S6E2F7', 'UniRef90_A0A376VSW3', 'UniRef90_A0A379WKS0', 'UniRef90_A0A0E0U425', 'UniRef90_A0A376TDQ7', 'UniRef90_P42904', 'UniRef90_A0A2X3C6R7', 'UniRef90_UPI000DA11850', 'UniRef90_A0A377BCD8', 'UniRef90_Q0T840', 'UniRef90_A0A2Y4XTI5', 'UniRef90_A0A376Y5K8', 'UniRef90_UPI00053150EC', 'UniRef90_V7IVU2', 'UniRef90_P27298', 'UniRef90_Q3YW07', 'UniRef90_W1BB32', 'UniRef90_UPI000C804E95', 'UniRef90_A0A140N7Y0', 'UniRef90_A0A377C715', 'UniRef90_UPI0007A574BF', 'UniRef90_W8TWR7', 'UniRef90_A0A376S0Y0', 'UniRef90_A0A2T4L7C1', 'UniRef90_A0A398Q7C7', 'UniRef90_A0A377F9C5', 'UniRef90_P75620', 'UniRef90_P0AD57', 'UniRef90_A0A377KAR8', 'UniRef90_A0A377DAT1', 'UniRef90_A0A346CGF3', 'UniRef90_A0A377K3V1', 'UniRef90_P0AEB6', 'UniRef90_A0A376MM44', 'UniRef90_A0A377LLC2', 'UniRef90_A0A376RR84', 'UniRef90_UPI0009918B66', 'UniRef90_P0AAG4', 'UniRef90_UPI000A2F7E9C', 'UniRef90_A0A379SXM3', 'UniRef90_A0A376NDI3', 'UniRef90_A0A0I0YM42', 'UniRef90_P0AGE7', 'UniRef90_A0A2T4QKJ9', 'UniRef90_A0A2X1M3Q2', 'UniRef90_UPI000DD431AF', 'UniRef90_Q31ZQ7', 'UniRef90_UPI000BE6BCEC', 'UniRef90_P25549', 'UniRef90_W1BFK0', 'UniRef90_U9XMN8', 'UniRef90_A0A1U9XD09', 'UniRef90_UPI000B7F77EC', 'UniRef90_A0A376L0E1', 'UniRef90_A0A2Y5A8D5', 'UniRef90_A0A2X1LZJ9', 'UniRef90_A0A2X7LPY1', 'UniRef90_A0A376ZZ37', 'UniRef90_D7XL50', 'UniRef90_A0A2X1L772', 'UniRef90_UPI000390B86D', 'UniRef90_A0A376W3D1', 'UniRef90_A0A2X1PX82', 'UniRef90_UPI000D09F634', 'UniRef90_A0A2X3LR95', 'UniRef90_A0A377DBW5', 'UniRef90_A0A379WJY9', 'UniRef90_UPI000B42B6F5', 'UniRef90_A0A377D3L4', 'UniRef90_A0A376ZBI8', 'UniRef90_UPI000DD9F935', 'UniRef90_W1W7Q9', 'UniRef90_A0A377D9J4', 'UniRef90_A0A2X3JZA0', 'UniRef90_A0A2Y0Y5T3', 'UniRef90_A0A333FZI0', 'UniRef90_UPI00098C16F3', 'UniRef90_A0A376X5Y6', 'UniRef90_A0A2M8E574', 'UniRef90_P11446', 'UniRef90_A0A192CH26', 'UniRef90_P75995', 'UniRef90_A0A2S6E7G8', 'UniRef90_A0A376NLZ1', 'UniRef90_T9DBK7', 'UniRef90_UPI00098CC2BF', 'UniRef90_A0A2X1IMB7', 'UniRef90_P0A1P7', 'UniRef90_A0A377DG63', 'UniRef90_A0A377W2Q3')\n",
    "sample_tuple_B=('UniRef90_P37673', 'UniRef90_A0A2S6E3F4', 'UniRef90_B7LR02', 'UniRef90_A0A377AQH0', 'UniRef90_A0A378GAR7', 'UniRef90_A0A376THR9', 'UniRef90_A0A1X3L0C4', 'UniRef90_A0A377E889', 'UniRef90_A0A2T4QKU8', 'UniRef90_A0A377N4M5', 'UniRef90_A0A376MJR8', 'UniRef90_A0A377B964', 'UniRef90_J7QWQ9', 'UniRef90_A0A2X4ZB90', 'UniRef90_A0A376P1T9', 'UniRef90_A0A0I1R0U4', 'UniRef90_A0A2K4P456', 'UniRef90_A0A376K2X2', 'UniRef90_A0A0I1D1K8', 'UniRef90_A0A0A6ZSC3', 'UniRef90_P37646', 'UniRef90_A0A377CYC8', 'UniRef90_Q32B68', 'UniRef90_A0A398KU99', 'UniRef90_A0A237JQ58', 'UniRef90_A0A377BBI2', 'UniRef90_A0A377E007', 'UniRef90_A0A0K3WCV2', 'UniRef90_W1F274', 'UniRef90_A0A384L6C3', 'UniRef90_A0A2A3WRB4', 'UniRef90_P45756', 'UniRef90_G5QQ04', 'UniRef90_A0A376VSW3', 'UniRef90_P37651', 'UniRef90_A0A379WKS0', 'UniRef90_A0A0E0U425', 'UniRef90_P42904', 'UniRef90_A0A377BCD8', 'UniRef90_Q0T840', 'UniRef90_A0A376MNC2', 'UniRef90_P11667', 'UniRef90_A0A2Y4XTI5', 'UniRef90_A0A376Y5K8', 'UniRef90_P42913', 'UniRef90_D6IHR3', 'UniRef90_UPI00092F5848', 'UniRef90_A0A0B1GD12', 'UniRef90_A0A376P5V2', 'UniRef90_Q3YW07', 'UniRef90_UPI000BE818CF', 'UniRef90_A0A140N7Y0', 'UniRef90_A0A377C715', 'UniRef90_UPI0007A574BF', 'UniRef90_F4VIL8', 'UniRef90_A0A0V2F058', 'UniRef90_A0A376S0Y0', 'UniRef90_A0A398Q7C7', 'UniRef90_A0A377F9C5', 'UniRef90_A0A376S1C4', 'UniRef90_A0A377KAR8', 'UniRef90_UPI0009918B66', 'UniRef90_A0A377DYS1', 'UniRef90_A0A069J5W4', 'UniRef90_UPI000D0FC8E3', 'UniRef90_A0A154CX59', 'UniRef90_A0A0I0YM42', 'UniRef90_P11865', 'UniRef90_UPI000DD431AF', 'UniRef90_UPI000BE6BCEC', 'UniRef90_P25549', 'UniRef90_A0A1C7CXQ7', 'UniRef90_A0A376L0E1', 'UniRef90_Q329B8', 'UniRef90_UPI000D09F634', 'UniRef90_A0A2X3LR95', 'UniRef90_A0A377DBW5', 'UniRef90_A0A2X3KJ19', 'UniRef90_A0A379WJY9', 'UniRef90_A0A376ZBI8', 'UniRef90_UPI000DD9F935', 'UniRef90_A0A377D9J4', 'UniRef90_A0A2X3JZA0', 'UniRef90_A0A333FZI0', 'UniRef90_A0A2Y0Y5T3', 'UniRef90_UPI00098C16F3', 'UniRef90_P08371', 'UniRef90_A0A376X5Y6', 'UniRef90_A0A2M8E574', 'UniRef90_P11446', 'UniRef90_P64613', 'UniRef90_P75995', 'UniRef90_A0A066RNR4', 'UniRef90_A0A376NLZ1', 'UniRef90_UPI00098CC2BF', 'UniRef90_A0A2X1IMB7', 'UniRef90_P0A1P7')\n",
    "#these are tuples\n",
    "\n",
    "def function_to_find_overlap(sampletuple_from_model_1,sampletuple_from_model_2):   \n",
    "    ov = set(sampletuple_from_model_1)-set(sampletuple_from_model_2)\n",
    "    length=len(ov)\n",
    "    return length, ov\n",
    "\n",
    "function_to_find_overlap(sample_tuple_A,sample_tuple_B)"
   ]
  },
  {
   "cell_type": "code",
   "execution_count": 50,
   "metadata": {
    "collapsed": false
   },
   "outputs": [
    {
     "data": {
      "text/plain": [
       "set()"
      ]
     },
     "execution_count": 50,
     "metadata": {},
     "output_type": "execute_result"
    }
   ],
   "source": []
  },
  {
   "cell_type": "code",
   "execution_count": null,
   "metadata": {
    "collapsed": true
   },
   "outputs": [],
   "source": []
  },
  {
   "cell_type": "code",
   "execution_count": 69,
   "metadata": {
    "collapsed": false
   },
   "outputs": [
    {
     "name": "stdout",
     "output_type": "stream",
     "text": [
      "1.0\n",
      "3.0\n",
      "2.0\n",
      "2.0\n"
     ]
    }
   ],
   "source": [
    "# 4. function to compare set A to list of set B\n",
    "\n",
    "def one_to_many(set_A,list_of_sets_B):\n",
    "    max_score=0\n",
    "    for set_B in list_of_sets_B:\n",
    "        score=one_to_one(set_A,set_B)\n",
    "        if score>max_score:\n",
    "            max_score=score\n",
    "    return max_score * len(set_A)\n",
    "\n",
    "print(one_to_many({'a','b','c'},[{'a','r'},{'c','d','e'}]))\n",
    "print(one_to_many({'a','b','c'},[{'a','r'},{'a','b','c'}]))\n",
    "print(one_to_many({'a','b','c'},[{'a','r'},{'b','c','e'}]))\n",
    "print(one_to_many({'a','b','c'},[{'a','b'},{'c','d','e'}]))"
   ]
  },
  {
   "cell_type": "code",
   "execution_count": null,
   "metadata": {
    "collapsed": true
   },
   "outputs": [],
   "source": [
    "# 5. function to compare list of sets A to list of sets B\n",
    "def manytomany(list_of_sets_A,list_of_sets_B):\n",
    "    scores=[]\n",
    "    total_number_of_genes = []\n",
    "    for set_A in list_of_sets_A:\n",
    "        scores.append(one_to_many(set_A,list_of_sets_B))\n",
    "        total_number_of_genes.append(len(set_A))\n",
    "    return np.sum(scores) / np.sum(total_number_of_genes)\n",
    "    \n",
    "#mean overlap of model 1 to model 2 (of whole column), eventually change to length adjusted mean"
   ]
  },
  {
   "cell_type": "code",
   "execution_count": null,
   "metadata": {
    "collapsed": true
   },
   "outputs": [],
   "source": []
  },
  {
   "cell_type": "code",
   "execution_count": 6,
   "metadata": {
    "collapsed": false
   },
   "outputs": [
    {
     "name": "stdout",
     "output_type": "stream",
     "text": [
      "Comparing 40_samples_sum_0.3_2019-01-21.cags.json.gz to everything else\n",
      "Comparing against 50_samples_sum_0.3_2019-01-09.cags.json.gz\n",
      "Comparing against 40_samples_sum_0.2_2019-01-21.cags.json.gz\n",
      "Comparing 50_samples_sum_0.3_2019-01-09.cags.json.gz to everything else\n",
      "Comparing against 40_samples_sum_0.3_2019-01-21.cags.json.gz\n",
      "Comparing against 40_samples_sum_0.2_2019-01-21.cags.json.gz\n",
      "Comparing 40_samples_sum_0.2_2019-01-21.cags.json.gz to everything else\n",
      "Comparing against 40_samples_sum_0.3_2019-01-21.cags.json.gz\n",
      "Comparing against 50_samples_sum_0.3_2019-01-09.cags.json.gz\n"
     ]
    },
    {
     "data": {
      "text/html": [
       "<div>\n",
       "<style>\n",
       "    .dataframe thead tr:only-child th {\n",
       "        text-align: right;\n",
       "    }\n",
       "\n",
       "    .dataframe thead th {\n",
       "        text-align: left;\n",
       "    }\n",
       "\n",
       "    .dataframe tbody tr th {\n",
       "        vertical-align: top;\n",
       "    }\n",
       "</style>\n",
       "<table border=\"1\" class=\"dataframe\">\n",
       "  <thead>\n",
       "    <tr style=\"text-align: right;\">\n",
       "      <th></th>\n",
       "      <th>modelA</th>\n",
       "      <th>modelB</th>\n",
       "      <th>score</th>\n",
       "    </tr>\n",
       "  </thead>\n",
       "  <tbody>\n",
       "    <tr>\n",
       "      <th>0</th>\n",
       "      <td>40_samples_sum_0.3_2019-01-21.cags.json.gz</td>\n",
       "      <td>50_samples_sum_0.3_2019-01-09.cags.json.gz</td>\n",
       "      <td>1</td>\n",
       "    </tr>\n",
       "    <tr>\n",
       "      <th>1</th>\n",
       "      <td>40_samples_sum_0.3_2019-01-21.cags.json.gz</td>\n",
       "      <td>40_samples_sum_0.2_2019-01-21.cags.json.gz</td>\n",
       "      <td>1</td>\n",
       "    </tr>\n",
       "    <tr>\n",
       "      <th>2</th>\n",
       "      <td>50_samples_sum_0.3_2019-01-09.cags.json.gz</td>\n",
       "      <td>40_samples_sum_0.3_2019-01-21.cags.json.gz</td>\n",
       "      <td>1</td>\n",
       "    </tr>\n",
       "    <tr>\n",
       "      <th>3</th>\n",
       "      <td>50_samples_sum_0.3_2019-01-09.cags.json.gz</td>\n",
       "      <td>40_samples_sum_0.2_2019-01-21.cags.json.gz</td>\n",
       "      <td>1</td>\n",
       "    </tr>\n",
       "    <tr>\n",
       "      <th>4</th>\n",
       "      <td>40_samples_sum_0.2_2019-01-21.cags.json.gz</td>\n",
       "      <td>40_samples_sum_0.3_2019-01-21.cags.json.gz</td>\n",
       "      <td>1</td>\n",
       "    </tr>\n",
       "    <tr>\n",
       "      <th>5</th>\n",
       "      <td>40_samples_sum_0.2_2019-01-21.cags.json.gz</td>\n",
       "      <td>50_samples_sum_0.3_2019-01-09.cags.json.gz</td>\n",
       "      <td>1</td>\n",
       "    </tr>\n",
       "  </tbody>\n",
       "</table>\n",
       "</div>"
      ],
      "text/plain": [
       "                                       modelA  \\\n",
       "0  40_samples_sum_0.3_2019-01-21.cags.json.gz   \n",
       "1  40_samples_sum_0.3_2019-01-21.cags.json.gz   \n",
       "2  50_samples_sum_0.3_2019-01-09.cags.json.gz   \n",
       "3  50_samples_sum_0.3_2019-01-09.cags.json.gz   \n",
       "4  40_samples_sum_0.2_2019-01-21.cags.json.gz   \n",
       "5  40_samples_sum_0.2_2019-01-21.cags.json.gz   \n",
       "\n",
       "                                       modelB  score  \n",
       "0  50_samples_sum_0.3_2019-01-09.cags.json.gz      1  \n",
       "1  40_samples_sum_0.2_2019-01-21.cags.json.gz      1  \n",
       "2  40_samples_sum_0.3_2019-01-21.cags.json.gz      1  \n",
       "3  40_samples_sum_0.2_2019-01-21.cags.json.gz      1  \n",
       "4  40_samples_sum_0.3_2019-01-21.cags.json.gz      1  \n",
       "5  50_samples_sum_0.3_2019-01-09.cags.json.gz      1  "
      ]
     },
     "execution_count": 6,
     "metadata": {},
     "output_type": "execute_result"
    }
   ],
   "source": [
    "# 6. comparison dataframe, the many to many\n",
    "\n",
    "# def function_to_compare_two_models(modelA, modelB):\n",
    "#     # CODE FOR COMPARISON\n",
    "#     return 1\n",
    "\n",
    "comparison_dataframe = []\n",
    "for modelA_name, modelA in models.items():\n",
    "    #\n",
    "    print(\"Comparing {} to everything else\".format(modelA_name))\n",
    "    for modelB_name, modelB in models.items():\n",
    "        \n",
    "        if modelA_name == modelB_name:\n",
    "            continue\n",
    "            \n",
    "        print(\"Comparing against {}\".format(modelB_name))\n",
    "        \n",
    "        comparison_dataframe.append({\n",
    "                \"modelA\": modelA_name,\n",
    "                \"modelB\": modelB_name,\n",
    "                \"score\": function_to_compare_two_models(modelA, modelB)\n",
    "            })\n",
    "\n",
    "comparison_dataframe = pd.DataFrame(comparison_dataframe)\n",
    "comparison_dataframe"
   ]
  }
 ],
 "metadata": {
  "kernelspec": {
   "display_name": "Python 3",
   "language": "python",
   "name": "python3"
  },
  "language_info": {
   "codemirror_mode": {
    "name": "ipython",
    "version": 3
   },
   "file_extension": ".py",
   "mimetype": "text/x-python",
   "name": "python",
   "nbconvert_exporter": "python",
   "pygments_lexer": "ipython3",
   "version": "3.5.3"
  }
 },
 "nbformat": 4,
 "nbformat_minor": 1
}
