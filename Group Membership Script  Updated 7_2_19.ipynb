{
 "cells": [
  {
   "cell_type": "code",
   "execution_count": 1,
   "metadata": {
    "collapsed": true
   },
   "outputs": [],
   "source": [
    "# 1. load relevant packages\n",
    "\n",
    "from collections import defaultdict\n",
    "import pandas as pd\n",
    "import json\n",
    "import gzip\n",
    "import os\n",
    "import numpy"
   ]
  },
  {
   "cell_type": "code",
   "execution_count": 2,
   "metadata": {
    "collapsed": true
   },
   "outputs": [],
   "source": [
    "# 2. read in file and convert into sets of CAGs\n",
    "\n",
    "l=[\"40_samples_sum_0.2_2019-01-21.cags.json.gz\",\"40_samples_sum_0.3_2019-01-21.cags.json.gz\",\"50_samples_sum_0.3_2019-01-09.cags.json.gz\"]\n",
    "\n",
    "def read_json_gz(fp):\n",
    "   return json.load(gzip.open(fp, \"rt\"))\n",
    "\n",
    "def make_list_genes(fp):\n",
    "   model = read_json_gz(fp)\n",
    "   #print(“This is new model”)\n",
    "   list_of_sets = []\n",
    "   for list_of_genes in model.values():\n",
    "       list_of_sets.append(set(list_of_genes))\n",
    "\n",
    "   return list_of_sets"
   ]
  },
  {
   "cell_type": "code",
   "execution_count": 3,
   "metadata": {
    "collapsed": false
   },
   "outputs": [
    {
     "data": {
      "text/plain": [
       "dict_keys(['50_samples_sum_0.3_2019-01-09.cags.json.gz', '40_samples_sum_0.2_2019-01-21.cags.json.gz', '40_samples_sum_0.3_2019-01-21.cags.json.gz'])"
      ]
     },
     "execution_count": 3,
     "metadata": {},
     "output_type": "execute_result"
    }
   ],
   "source": [
    "# 3. create dict of models \n",
    "models = {}\n",
    "for fp in l:\n",
    "   models[fp] = make_list_genes(fp)\n",
    "models.keys()"
   ]
  },
  {
   "cell_type": "code",
   "execution_count": 4,
   "metadata": {
    "collapsed": false
   },
   "outputs": [
    {
     "name": "stdout",
     "output_type": "stream",
     "text": [
      "0.3333333333333333\n",
      "0.6666666666666666\n"
     ]
    }
   ],
   "source": [
    "# function to compare set A to set B\n",
    "\n",
    "def one_to_one(set_A,set_B):   \n",
    "    ov = set(set_A) & set(set_B)\n",
    "    length=len(ov)\n",
    "    return length / len(set_A)\n",
    "\n",
    "# Result should be 1/3, overlap divided by number of genes in set A\n",
    "print(one_to_one(\n",
    "    {'a', 'b', 'c'},\n",
    "    {'c', 'e', 'f', 'g', 'h', 'i'}\n",
    "))\n",
    "\n",
    "# Result should be 2/3\n",
    "print(one_to_one(\n",
    "    {'a', 'b', 'c'},\n",
    "    {'b', 'c', 'f', 'g', 'h', 'i'}\n",
    "))"
   ]
  },
  {
   "cell_type": "code",
   "execution_count": 5,
   "metadata": {
    "collapsed": false
   },
   "outputs": [
    {
     "name": "stdout",
     "output_type": "stream",
     "text": [
      "1.0\n",
      "3.0\n"
     ]
    }
   ],
   "source": [
    "# 4. function to compare set A to list of set B, returns max # of gene overlap\n",
    "\n",
    "def one_to_many(set_A,list_of_sets_B):\n",
    "    max_score=0\n",
    "    for set_B in list_of_sets_B:\n",
    "        score=one_to_one(set_A,set_B)\n",
    "        if score>max_score:\n",
    "            max_score=score\n",
    "    return max_score * len(set_A)\n",
    "\n",
    "print(one_to_many({'a','b','c'},[{'s','r'},{'c','d','e'}]))\n",
    "print(one_to_many({'c','d','e'},[{'s','r'},{'c','d','e'}]))\n",
    "\n",
    "# print(one_to_many({'a','b','c'},[{'a','r'},{'c','d','e'}]))\n",
    "# print(one_to_many({'a','b','c'},[{'a','r'},{'a','b','c'}]))\n",
    "# print(one_to_many({'a','b','c'},[{'a','r'},{'b','c','e'}]))\n",
    "# print(one_to_many({'a','b','c'},[{'a','b'},{'c','d','e'}]))"
   ]
  },
  {
   "cell_type": "code",
   "execution_count": 55,
   "metadata": {
    "collapsed": false
   },
   "outputs": [
    {
     "name": "stdout",
     "output_type": "stream",
     "text": [
      "0.3333333333333333\n",
      "2\n",
      "0.3333333333333333\n",
      "0.2\n"
     ]
    }
   ],
   "source": [
    "# 5. function to compare list of sets A to list of sets B\n",
    "\n",
    "def many_to_many(list_of_sets_A,list_of_sets_B):\n",
    "    scores=[]\n",
    "    total_number_of_genes = []\n",
    "    for set_A in list_of_sets_A:\n",
    "#         print(\"this is new round:\")\n",
    "#         print(set_A)\n",
    "        scores.append(one_to_many(set_A,list_of_sets_B))\n",
    "#         print(\"this is scores-\")\n",
    "#         print(scores)\n",
    "        total_number_of_genes.append(len(set_A))\n",
    "#         print(\"this is genes-\")\n",
    "#         print(total_number_of_genes)\n",
    "#     print(sum(scores))\n",
    "#     print(sum(total_number_of_genes))\n",
    "    return sum(scores)/sum(total_number_of_genes)\n",
    "\n",
    "#calculates the # of gene overlap / total genes in set A, is the proportion\n",
    "\n",
    "x1={'a','b','c'},{'e','f','g'}\n",
    "y1={'s','r'},{'c','d','e'}\n",
    "model1=(x1,y1)\n",
    "\n",
    "x2={'a','b','c'},{'l','f','g'}\n",
    "y2={'s','r'},{'c','d','e'}\n",
    "model2=(x2,y2)\n",
    "\n",
    "x3={'c','d','e'},{'e','f','g'}\n",
    "y3={'a','b'},{'e','c','d'}\n",
    "model3=(x3,y3)\n",
    "\n",
    "print(many_to_many(x1,y1))\n",
    "# print(many_to_many(x2,y2))\n",
    "# print(many_to_many(x3,y3))\n",
    "\n",
    "model_one={'a','b','c'},{'e','f','g'}\n",
    "model_two={'s','r'},{'c','d','e'}\n",
    "\n",
    "g=(model_one,model_two)\n",
    "\n",
    "print(many_to_many(model_one,model_two))\n",
    "print(many_to_many(model_two,model_one))\n",
    "\n",
    "# models_ex = {}\n",
    "# for fp in l:\n",
    "#    models[fp] = make_list_genes(fp)\n",
    "\n",
    "\n",
    "#type(models_r)\n",
    "# print(many_to_many([{'a','b','c'},{'e','f','g'}],[{'s','r'},{'c','d','e'}]))\n",
    "# print(many_to_many([{'a','b','c'},{'l','f','g'}],[{'s','r'},{'a','b','e'}]))\n",
    "\n",
    "# print(many_to_many([{'c','d','e'},{'e','f','g'}],[{'a','b'},{'e','c','d'}]))\n",
    "# print(many_to_many([{'a','b','c'},{'e','f','g'}],[{'a','b','c'},{'e','f','g'}]))\n",
    "   \n"
   ]
  },
  {
   "cell_type": "code",
   "execution_count": null,
   "metadata": {
    "collapsed": true
   },
   "outputs": [],
   "source": [
    "    \n",
    "# def count_genes(dic):\n",
    "#     result = 0\n",
    "#     for char in dic:\n",
    "#         result += 1     # same as result = result + 1\n",
    "#     return result\n",
    "# print(count_genes(models_ex.values()))\n",
    "\n",
    "# for k,v in models_ex.items():\n",
    "#     print (k, len(list(filter(None, v))))\n",
    "\n",
    "# def number_genes(model):\n",
    "#     for model_values in model.values():\n",
    "#         result=0\n",
    "#         for gene in set_A:\n",
    "#             result += 1\n",
    "#         return result\n",
    "    \n",
    "# number_genes(models_ex)\n",
    "    \n",
    "#     def count_chars(txt):\n",
    "# \tresult = 0\n",
    "# \tfor char in txt:\n",
    "# \t\tresult += 1     # same as result = result + 1\n",
    "# \treturn result"
   ]
  },
  {
   "cell_type": "code",
   "execution_count": null,
   "metadata": {
    "collapsed": true
   },
   "outputs": [],
   "source": [
    "A = [[1, 2, 3], [4, 5, 6], [7, 8, 9]]\n",
    "f = 1\n",
    "print(A)\n",
    "for i in range(0, 3):\n",
    "    f *= 10\n",
    "    for j in range(0, 3):\n",
    "       A[i][j] *= f\n",
    "print(A)"
   ]
  },
  {
   "cell_type": "code",
   "execution_count": 137,
   "metadata": {
    "collapsed": false
   },
   "outputs": [
    {
     "name": "stdout",
     "output_type": "stream",
     "text": [
      "{'b': ['boots'], 'a': ['apple', 'ant', 'apple'], 'c': ['cat']}\n"
     ]
    }
   ],
   "source": [
    " d = {'A' : [1, 2, 3, 4, 5, 6, 7, 8, 9], \n",
    "        'B' : 34, \n",
    "        'C' : 12, \n",
    "        'D' : [7, 8, 9, 6, 4] } \n",
    "  \n",
    "    # using the in operator \n",
    "    count = 0\n",
    "    for x in d: \n",
    "        if isinstance(d[x], list): \n",
    "            count += len(d[x]) \n",
    "    print(count) "
   ]
  },
  {
   "cell_type": "code",
   "execution_count": 233,
   "metadata": {
    "collapsed": false
   },
   "outputs": [
    {
     "data": {
      "text/plain": [
       "6"
      ]
     },
     "execution_count": 233,
     "metadata": {},
     "output_type": "execute_result"
    }
   ],
   "source": [
    "models_ex = {\"model_one\":[{'a','b','c'},{'e','f','g'}],\"model_two\":[{'s','r'},{'c','d','e'}]}\n",
    "\n",
    "def number_genes(model1):\n",
    "    total_genes=0\n",
    "    for cag in model1:\n",
    "        total_genes += len(cag)\n",
    "    return total_genes\n",
    "\n",
    "number_genes(models_ex[\"model_one\"])"
   ]
  },
  {
   "cell_type": "code",
   "execution_count": 146,
   "metadata": {
    "collapsed": false
   },
   "outputs": [
    {
     "ename": "TypeError",
     "evalue": "unhashable type: 'list'",
     "output_type": "error",
     "traceback": [
      "\u001b[0;31m---------------------------------------------------------------------------\u001b[0m",
      "\u001b[0;31mTypeError\u001b[0m                                 Traceback (most recent call last)",
      "\u001b[0;32m<ipython-input-146-6b9024324c68>\u001b[0m in \u001b[0;36m<module>\u001b[0;34m()\u001b[0m\n\u001b[1;32m      5\u001b[0m         \u001b[0;32mreturn\u001b[0m \u001b[0mvalues\u001b[0m\u001b[0;34m\u001b[0m\u001b[0m\n\u001b[1;32m      6\u001b[0m \u001b[0;34m\u001b[0m\u001b[0m\n\u001b[0;32m----> 7\u001b[0;31m \u001b[0mget_values\u001b[0m\u001b[0;34m(\u001b[0m\u001b[0mmodels_ex\u001b[0m\u001b[0;34m[\u001b[0m\u001b[0mmodel_one\u001b[0m\u001b[0;34m]\u001b[0m\u001b[0;34m)\u001b[0m\u001b[0;34m\u001b[0m\u001b[0m\n\u001b[0m",
      "\u001b[0;31mTypeError\u001b[0m: unhashable type: 'list'"
     ]
    }
   ],
   "source": [
    "models_ex = {\"model_one\":[{'a','b','c'},{'e','f','g'}],\"model_two\":[{'s','r'},{'c','d','e'}]}\n",
    "\n",
    "def get_values(*value):\n",
    "    for values in value:\n",
    "        return values\n",
    "    \n",
    "get_values(models_ex[model_one])"
   ]
  },
  {
   "cell_type": "code",
   "execution_count": 214,
   "metadata": {
    "collapsed": false
   },
   "outputs": [
    {
     "data": {
      "text/plain": [
       "11"
      ]
     },
     "execution_count": 214,
     "metadata": {},
     "output_type": "execute_result"
    }
   ],
   "source": [
    "models_ex = {\"model_one\":[{'a','b','c'},{'e','f','g'}],\"model_two\":[{'s','r'},{'c','d','e'}]}\n",
    "\n",
    "def number_genes(dic):\n",
    "    for dic[i] in dic.items():\n",
    "        for model1 in dic.values():\n",
    "            total_genes=0\n",
    "            for cag in model1:\n",
    "                for gene in cag:\n",
    "                    gene_num =(len(cag))\n",
    "                total_genes = total_genes+gene_num\n",
    "            return total_genes\n",
    "\n",
    "number_genes(models_ex)"
   ]
  },
  {
   "cell_type": "code",
   "execution_count": 248,
   "metadata": {
    "collapsed": false
   },
   "outputs": [
    {
     "data": {
      "text/html": [
       "<div>\n",
       "<style>\n",
       "    .dataframe thead tr:only-child th {\n",
       "        text-align: right;\n",
       "    }\n",
       "\n",
       "    .dataframe thead th {\n",
       "        text-align: left;\n",
       "    }\n",
       "\n",
       "    .dataframe tbody tr th {\n",
       "        vertical-align: top;\n",
       "    }\n",
       "</style>\n",
       "<table border=\"1\" class=\"dataframe\">\n",
       "  <thead>\n",
       "    <tr style=\"text-align: right;\">\n",
       "      <th></th>\n",
       "      <th>Model A</th>\n",
       "      <th>Model B</th>\n",
       "      <th>Number of CAGs in Model A</th>\n",
       "      <th>Number of Genes in Model A</th>\n",
       "      <th>Score</th>\n",
       "    </tr>\n",
       "  </thead>\n",
       "  <tbody>\n",
       "    <tr>\n",
       "      <th>0</th>\n",
       "      <td>model_three</td>\n",
       "      <td>model_two</td>\n",
       "      <td>3</td>\n",
       "      <td>9</td>\n",
       "      <td>0.333333</td>\n",
       "    </tr>\n",
       "    <tr>\n",
       "      <th>1</th>\n",
       "      <td>model_three</td>\n",
       "      <td>model_one</td>\n",
       "      <td>3</td>\n",
       "      <td>9</td>\n",
       "      <td>0.555556</td>\n",
       "    </tr>\n",
       "    <tr>\n",
       "      <th>2</th>\n",
       "      <td>model_two</td>\n",
       "      <td>model_three</td>\n",
       "      <td>2</td>\n",
       "      <td>5</td>\n",
       "      <td>0.600000</td>\n",
       "    </tr>\n",
       "    <tr>\n",
       "      <th>3</th>\n",
       "      <td>model_two</td>\n",
       "      <td>model_one</td>\n",
       "      <td>2</td>\n",
       "      <td>5</td>\n",
       "      <td>0.200000</td>\n",
       "    </tr>\n",
       "    <tr>\n",
       "      <th>4</th>\n",
       "      <td>model_one</td>\n",
       "      <td>model_three</td>\n",
       "      <td>2</td>\n",
       "      <td>6</td>\n",
       "      <td>0.833333</td>\n",
       "    </tr>\n",
       "    <tr>\n",
       "      <th>5</th>\n",
       "      <td>model_one</td>\n",
       "      <td>model_two</td>\n",
       "      <td>2</td>\n",
       "      <td>6</td>\n",
       "      <td>0.333333</td>\n",
       "    </tr>\n",
       "  </tbody>\n",
       "</table>\n",
       "</div>"
      ],
      "text/plain": [
       "       Model A      Model B  Number of CAGs in Model A  \\\n",
       "0  model_three    model_two                          3   \n",
       "1  model_three    model_one                          3   \n",
       "2    model_two  model_three                          2   \n",
       "3    model_two    model_one                          2   \n",
       "4    model_one  model_three                          2   \n",
       "5    model_one    model_two                          2   \n",
       "\n",
       "   Number of Genes in Model A     Score  \n",
       "0                           9  0.333333  \n",
       "1                           9  0.555556  \n",
       "2                           5  0.600000  \n",
       "3                           5  0.200000  \n",
       "4                           6  0.833333  \n",
       "5                           6  0.333333  "
      ]
     },
     "execution_count": 248,
     "metadata": {},
     "output_type": "execute_result"
    }
   ],
   "source": [
    "def number_genes(model1):\n",
    "    total_genes=0\n",
    "    for cag in model1:\n",
    "        total_genes += len(cag)\n",
    "    return total_genes\n",
    "\n",
    "number_genes(models_ex[\"model_one\"])\n",
    "\n",
    "models_ex = {\"model_one\":[{'a','b','c'},{'e','f','g'}],\"model_two\":[{'s','r'},{'c','d','e'}],\"model_three\":[{'a','b','c','d','e'},{'f','g',},{'h','i'}]}\n",
    "\n",
    "comparison_dataframe = []\n",
    "for modelA_name, modelA in models_ex.items():\n",
    "#     print(\"Comparing {} to everything else\".format(modelA_name))\n",
    "    for modelB_name, modelB in models_ex.items():\n",
    "        \n",
    "        if modelA_name == modelB_name:\n",
    "            continue\n",
    "            \n",
    "#         print(\"Comparing against {}\".format(modelB_name))\n",
    "       \n",
    "        comparison_dataframe.append({\n",
    "                \"Model A\": modelA_name,\n",
    "                \"Model B\": modelB_name,\n",
    "                \"Score\": many_to_many(modelA,modelB),\n",
    "                \"Number of CAGs in Model A\":(len(modelA)),\n",
    "                \"Number of Genes in Model A\": number_genes(modelA)\n",
    "            })\n",
    "\n",
    "comparison_dataframe = pd.DataFrame(comparison_dataframe)\n",
    "comparison_dataframe"
   ]
  },
  {
   "cell_type": "code",
   "execution_count": null,
   "metadata": {
    "collapsed": false
   },
   "outputs": [],
   "source": []
  },
  {
   "cell_type": "code",
   "execution_count": null,
   "metadata": {
    "collapsed": false
   },
   "outputs": [],
   "source": []
  },
  {
   "cell_type": "code",
   "execution_count": 235,
   "metadata": {
    "collapsed": false,
    "scrolled": true
   },
   "outputs": [
    {
     "ename": "SyntaxError",
     "evalue": "invalid syntax (<ipython-input-235-3c8b3042f370>, line 16)",
     "output_type": "error",
     "traceback": [
      "\u001b[0;36m  File \u001b[0;32m\"<ipython-input-235-3c8b3042f370>\"\u001b[0;36m, line \u001b[0;32m16\u001b[0m\n\u001b[0;31m    \"Number of Genes in Model A\":number_genes(modelA)\u001b[0m\n\u001b[0m                               ^\u001b[0m\n\u001b[0;31mSyntaxError\u001b[0m\u001b[0;31m:\u001b[0m invalid syntax\n"
     ]
    }
   ],
   "source": [
    "comparison_dataframe = []\n",
    "for modelA_name, modelA in models_ex.items():\n",
    "#     print(\"Comparing {} to everything else\".format(modelA_name))\n",
    "    for modelB_name, modelB in models_ex.items():\n",
    "        \n",
    "        if modelA_name == modelB_name:\n",
    "            continue\n",
    "            \n",
    "#         print(\"Comparing against {}\".format(modelB_name))\n",
    "       \n",
    "        comparison_dataframe.append({\n",
    "                \"Model A\": modelA_name,\n",
    "                \"Model B\": modelB_name,\n",
    "                \"Score\": many_to_many(modelA,modelB),\n",
    "                \"Number of CAGs in Model A\":(len(modelA))\n",
    "                \"Number of Genes in Model A\":number_genes(modelA)\n",
    "            })\n",
    "\n",
    "comparison_dataframe = pd.DataFrame(comparison_dataframe)\n",
    "comparison_dataframe"
   ]
  },
  {
   "cell_type": "code",
   "execution_count": null,
   "metadata": {
    "collapsed": true
   },
   "outputs": [],
   "source": []
  },
  {
   "cell_type": "code",
   "execution_count": null,
   "metadata": {
    "collapsed": false
   },
   "outputs": [],
   "source": []
  }
 ],
 "metadata": {
  "kernelspec": {
   "display_name": "Python 3",
   "language": "python",
   "name": "python3"
  },
  "language_info": {
   "codemirror_mode": {
    "name": "ipython",
    "version": 3
   },
   "file_extension": ".py",
   "mimetype": "text/x-python",
   "name": "python",
   "nbconvert_exporter": "python",
   "pygments_lexer": "ipython3",
   "version": "3.5.3"
  }
 },
 "nbformat": 4,
 "nbformat_minor": 1
}
